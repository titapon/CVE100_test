{
  "cells": [
    {
      "cell_type": "code",
      "execution_count": 26,
      "metadata": {
        "id": "ZIJQfpOXJw6a"
      },
      "outputs": [],
      "source": [
        "class Car: #class name (Create class)\n",
        "  def __init__(self, brand, model, year):\n",
        "    self.brand = brand\n",
        "    self.model = model\n",
        "    self.year = year\n",
        "\n",
        "  def description(self):\n",
        "    return f\"This car is a {self.year} {self.brand} {self.model}.\"\n",
        "\n",
        "my_car = Car (\"Toyota,\", \"Corolla\", 2022) # create an instance of the class (also known as object)"
      ]
    },
    {
      "cell_type": "code",
      "execution_count": 27,
      "metadata": {
        "colab": {
          "base_uri": "https://localhost:8080/"
        },
        "id": "w10ZWnruNvI3",
        "outputId": "de632f5a-6287-4d79-bdc2-70f50d3bb14c"
      },
      "outputs": [
        {
          "name": "stdout",
          "output_type": "stream",
          "text": [
            "This car is a 2022 Toyota, Corolla.\n"
          ]
        }
      ],
      "source": [
        "print(my_car.description())"
      ]
    },
    {
      "cell_type": "code",
      "execution_count": 28,
      "metadata": {
        "colab": {
          "base_uri": "https://localhost:8080/"
        },
        "id": "AUyHkoztK9Be",
        "outputId": "065be757-2007-45b5-b21d-541850007187"
      },
      "outputs": [
        {
          "name": "stdout",
          "output_type": "stream",
          "text": [
            "Toyota,\n",
            "Corolla\n",
            "2022\n"
          ]
        }
      ],
      "source": [
        "print(my_car.brand)\n",
        "print(my_car.model)\n",
        "print(my_car.year)"
      ]
    },
    {
      "cell_type": "code",
      "execution_count": 29,
      "metadata": {
        "id": "oUDbxZF0Lq7n"
      },
      "outputs": [],
      "source": [
        "alice_car = Car(\"Tesla\", \"A11\", 2025)\n",
        "john_car = Car(\"Tesla\", \"B11\", 2024)"
      ]
    },
    {
      "cell_type": "code",
      "execution_count": 30,
      "metadata": {
        "colab": {
          "base_uri": "https://localhost:8080/"
        },
        "id": "aoUY1tOCMIt0",
        "outputId": "4cae53f0-6d1d-41af-9540-5659cd278466"
      },
      "outputs": [
        {
          "name": "stdout",
          "output_type": "stream",
          "text": [
            "B11\n"
          ]
        }
      ],
      "source": [
        "print(john_car.model)"
      ]
    },
    {
      "cell_type": "code",
      "execution_count": 31,
      "metadata": {
        "id": "yu2e8bNBOGzF"
      },
      "outputs": [
        {
          "ename": "ImportError",
          "evalue": "cannot import name 'SCHED_OTHER' from 'os' (c:\\Users\\User\\AppData\\Local\\Programs\\Python\\Python312\\Lib\\os.py)",
          "output_type": "error",
          "traceback": [
            "\u001b[1;31m---------------------------------------------------------------------------\u001b[0m",
            "\u001b[1;31mImportError\u001b[0m                               Traceback (most recent call last)",
            "Cell \u001b[1;32mIn[31], line 1\u001b[0m\n\u001b[1;32m----> 1\u001b[0m \u001b[38;5;28;01mfrom\u001b[39;00m \u001b[38;5;21;01mos\u001b[39;00m \u001b[38;5;28;01mimport\u001b[39;00m SCHED_OTHER\n\u001b[0;32m      2\u001b[0m \u001b[38;5;28;01mclass\u001b[39;00m \u001b[38;5;21;01mStudent\u001b[39;00m:\n\u001b[0;32m      3\u001b[0m   \u001b[38;5;28;01mdef\u001b[39;00m \u001b[38;5;21m__init__\u001b[39m(\u001b[38;5;28mself\u001b[39m, \u001b[38;5;28mid\u001b[39m, name, gpa, score):\n",
            "\u001b[1;31mImportError\u001b[0m: cannot import name 'SCHED_OTHER' from 'os' (c:\\Users\\User\\AppData\\Local\\Programs\\Python\\Python312\\Lib\\os.py)"
          ]
        }
      ],
      "source": [
        "from os import SCHED_OTHER\n",
        "class Student:\n",
        "  def __init__(self, id, name, gpa, score):\n",
        "    self.id = id\n",
        "    self.name = name\n",
        "    self.gpa = gpa\n",
        "    self.score = score\n",
        "\n",
        "  def calculate_grade(self):\n",
        "    if self.gpa>=3.5:\n",
        "        return \"A\"\n",
        "    elif self.gpa>=2.5:\n",
        "        return \"B\"\n",
        "    else:\n",
        "        return \"C\"\n",
        "\n",
        "  def add_extra_score(self, extra):\n",
        "      self.score += extra\n",
        "      return self.score\n"
      ]
    },
    {
      "cell_type": "code",
      "execution_count": null,
      "metadata": {
        "id": "K6IJZ7siOfpm"
      },
      "outputs": [],
      "source": [
        "stu_1 = Student(1, \"May\", 2.5, 70)\n",
        "stu_2 = Student (2, \"David\", 3.5, 90)"
      ]
    },
    {
      "cell_type": "code",
      "execution_count": null,
      "metadata": {
        "colab": {
          "base_uri": "https://localhost:8080/"
        },
        "id": "IqohVzGZPLMf",
        "outputId": "032af438-bedd-4384-e4fe-d8322d017fb6"
      },
      "outputs": [
        {
          "data": {
            "text/plain": [
              "90"
            ]
          },
          "execution_count": 41,
          "metadata": {},
          "output_type": "execute_result"
        }
      ],
      "source": [
        "stu_2.score"
      ]
    },
    {
      "cell_type": "code",
      "execution_count": null,
      "metadata": {
        "colab": {
          "base_uri": "https://localhost:8080/"
        },
        "id": "VcNMFueBPYBd",
        "outputId": "8a125c92-aa85-4d0e-d180-26a4d38598c2"
      },
      "outputs": [
        {
          "name": "stdout",
          "output_type": "stream",
          "text": [
            "B\n"
          ]
        }
      ],
      "source": [
        "print(stu_1.calculate_grade())"
      ]
    },
    {
      "cell_type": "code",
      "execution_count": null,
      "metadata": {
        "colab": {
          "base_uri": "https://localhost:8080/"
        },
        "id": "geRQwvbsRWgf",
        "outputId": "b76807b9-5b33-4eb9-99bf-a8c1074a27af"
      },
      "outputs": [
        {
          "data": {
            "text/plain": [
              "75"
            ]
          },
          "execution_count": 45,
          "metadata": {},
          "output_type": "execute_result"
        }
      ],
      "source": [
        "stu_1.add_extra_score(5)"
      ]
    },
    {
      "cell_type": "code",
      "execution_count": null,
      "metadata": {
        "colab": {
          "base_uri": "https://localhost:8080/"
        },
        "id": "tWbvYxNQRnEu",
        "outputId": "3b8d6284-f942-4c48-dba8-441984493ee1"
      },
      "outputs": [
        {
          "data": {
            "text/plain": [
              "75"
            ]
          },
          "execution_count": 46,
          "metadata": {},
          "output_type": "execute_result"
        }
      ],
      "source": [
        "stu_1.score"
      ]
    },
    {
      "cell_type": "code",
      "execution_count": null,
      "metadata": {
        "id": "kNKi4VTcSbQG"
      },
      "outputs": [],
      "source": [
        "class Car1:\n",
        "    def __init__(self, brand, model, year):\n",
        "      self.brand = brand\n",
        "      self.model = model\n",
        "      self.__year = year # private attribute (cannot be accessed outside of the class)\n",
        "\n",
        "    def get_year(self): # Getter for private attribute\n",
        "      return self.__year"
      ]
    },
    {
      "cell_type": "code",
      "execution_count": null,
      "metadata": {
        "id": "CeIDgPvxSqMl"
      },
      "outputs": [],
      "source": [
        "new_car = Car1(\"Mercedez\", \"ModelX\", 2025)"
      ]
    },
    {
      "cell_type": "code",
      "execution_count": null,
      "metadata": {
        "colab": {
          "base_uri": "https://localhost:8080/",
          "height": 37
        },
        "id": "vSQENZjIS2EF",
        "outputId": "93c3d65d-7e3b-43e4-8967-f57d200f07b3"
      },
      "outputs": [
        {
          "data": {
            "application/vnd.google.colaboratory.intrinsic+json": {
              "type": "string"
            },
            "text/plain": [
              "'Mercedez'"
            ]
          },
          "execution_count": 52,
          "metadata": {},
          "output_type": "execute_result"
        }
      ],
      "source": [
        "new_car.brand"
      ]
    },
    {
      "cell_type": "code",
      "execution_count": null,
      "metadata": {
        "colab": {
          "base_uri": "https://localhost:8080/",
          "height": 37
        },
        "id": "56zawsGSS-Nt",
        "outputId": "6e4ca5f4-e286-4d29-fb3b-7af428bfdee0"
      },
      "outputs": [
        {
          "data": {
            "application/vnd.google.colaboratory.intrinsic+json": {
              "type": "string"
            },
            "text/plain": [
              "'ModelX'"
            ]
          },
          "execution_count": 53,
          "metadata": {},
          "output_type": "execute_result"
        }
      ],
      "source": [
        "new_car.model"
      ]
    },
    {
      "cell_type": "code",
      "execution_count": null,
      "metadata": {
        "colab": {
          "base_uri": "https://localhost:8080/",
          "height": 141
        },
        "id": "7BCIu2RGTA3V",
        "outputId": "53af5670-77c2-46f0-b131-aee435bb9967"
      },
      "outputs": [
        {
          "ename": "AttributeError",
          "evalue": "'Car1' object has no attribute '__year'",
          "output_type": "error",
          "traceback": [
            "\u001b[0;31m---------------------------------------------------------------------------\u001b[0m",
            "\u001b[0;31mAttributeError\u001b[0m                            Traceback (most recent call last)",
            "\u001b[0;32m/tmp/ipython-input-1292363523.py\u001b[0m in \u001b[0;36m<cell line: 0>\u001b[0;34m()\u001b[0m\n\u001b[0;32m----> 1\u001b[0;31m \u001b[0mnew_car\u001b[0m\u001b[0;34m.\u001b[0m\u001b[0m__year\u001b[0m\u001b[0;34m\u001b[0m\u001b[0;34m\u001b[0m\u001b[0m\n\u001b[0m",
            "\u001b[0;31mAttributeError\u001b[0m: 'Car1' object has no attribute '__year'"
          ]
        }
      ],
      "source": [
        "new_car.__year"
      ]
    },
    {
      "cell_type": "code",
      "execution_count": null,
      "metadata": {
        "id": "cxrIVH4kUCUO"
      },
      "outputs": [],
      "source": [
        "class BankAccount:\n",
        "  def __init__(self, owner, balance):\n",
        "    self.owner = owner\n",
        "    self.balance = balance"
      ]
    },
    {
      "cell_type": "code",
      "execution_count": null,
      "metadata": {
        "id": "hoDSpCc3UOce"
      },
      "outputs": [],
      "source": [
        "account_1 = BankAccount(\"May\", 1000)"
      ]
    },
    {
      "cell_type": "code",
      "execution_count": null,
      "metadata": {
        "id": "c7f3MWQvUd72"
      },
      "outputs": [],
      "source": [
        "account_1.balance = 500 # Risky for data security"
      ]
    },
    {
      "cell_type": "code",
      "execution_count": null,
      "metadata": {
        "colab": {
          "base_uri": "https://localhost:8080/"
        },
        "id": "bQLTWad3UgXf",
        "outputId": "7d332663-0001-4e8a-a270-7e4fdd30f75c"
      },
      "outputs": [
        {
          "data": {
            "text/plain": [
              "500"
            ]
          },
          "execution_count": 62,
          "metadata": {},
          "output_type": "execute_result"
        }
      ],
      "source": [
        "account_1.balance"
      ]
    },
    {
      "cell_type": "code",
      "execution_count": null,
      "metadata": {
        "id": "BS6vrxgmWAbv"
      },
      "outputs": [],
      "source": [
        "class ElectricCar(Car):\n",
        "  def __init__(self, brand, model, year, battery_capacity):\n",
        "    super().__init__(brand, model, year) # Inherit attributes from Car\n",
        "    self.battery_capacity = battery_capacity # New attribute\n",
        "\n",
        "  def battery_info(self):\n",
        "    return f\"This car has a {self.battery_capacity} kWh battery.\""
      ]
    },
    {
      "cell_type": "code",
      "execution_count": null,
      "metadata": {
        "id": "eh5dka7SWeku"
      },
      "outputs": [],
      "source": [
        "my_electric_car = ElectricCar(\"Tesla\", \"Model S\", 2022, 100)\n"
      ]
    },
    {
      "cell_type": "code",
      "execution_count": null,
      "metadata": {
        "colab": {
          "base_uri": "https://localhost:8080/"
        },
        "id": "rpIKv_K3Wglu",
        "outputId": "547ca2e6-b7a0-4702-97a2-619492421d58"
      },
      "outputs": [
        {
          "name": "stdout",
          "output_type": "stream",
          "text": [
            "This car is a 2022 Tesla Model S.\n"
          ]
        }
      ],
      "source": [
        "print(my_electric_car.description()) # function from the parent class Car"
      ]
    },
    {
      "cell_type": "code",
      "execution_count": null,
      "metadata": {
        "colab": {
          "base_uri": "https://localhost:8080/"
        },
        "id": "-4QnDucNWww-",
        "outputId": "f8478dea-36f2-4a8d-ed62-5dcceb8d5c82"
      },
      "outputs": [
        {
          "name": "stdout",
          "output_type": "stream",
          "text": [
            "This car has a 100 kWh battery.\n"
          ]
        }
      ],
      "source": [
        "print(my_electric_car.battery_info()) #own function"
      ]
    },
    {
      "cell_type": "code",
      "execution_count": null,
      "metadata": {},
      "outputs": [],
      "source": [
        "class Car:\n",
        "  def __init__(self, model, rent_per_day, available):\n",
        "    self.model = model\n",
        "    self.rent_per_day = rent_per_day\n",
        "    self.available = True #self.available = available is also\n",
        "    \n",
        "def rent(self,days):\n",
        "    if self.available: #self.available == True\n",
        "        total_cost = self.rent_per_day * days\n",
        "        self.avilable = False\n",
        "        print(\"Car Rented. Total Cost=\" , total_cost)\n",
        "    else:\n",
        "        print(\"Car is not available to rent\")\n",
        "        \n",
        "def return_car(self):\n",
        "    self.available = True\n",
        "    print(\"Car returned\")\n",
        "    \n",
        "def display(self):\n",
        "    print(\"Model=\", self.model)\n",
        "    print(\"Rent per day=\", self.rent_per_day)\n",
        "    print(\"Available=\", self.available)"
      ]
    },
    {
      "cell_type": "code",
      "execution_count": null,
      "metadata": {},
      "outputs": [],
      "source": [
        "my_car = Car(\"Toyota\", 3000, True)\n",
        "my_car.rent(5)\n",
        "my_car.display()\n",
        "my_car.return_car()\n",
        "my_car.display()"
      ]
    },
    {
      "cell_type": "code",
      "execution_count": 42,
      "metadata": {},
      "outputs": [],
      "source": [
        "class Person:\n",
        "    def _init_(self, name, age):\n",
        "        self.name = name\n",
        "        self.age = age\n",
        "        \n",
        "    def display(self):\n",
        "        print(\"name=\", self.name)\n",
        "        print(\"age=\", self.age)\n",
        "        \n",
        "class Student(Person):\n",
        "    def _init_(self, name, age):\n",
        "        super(). _init_(name,age)\n",
        "        self.marks={}\n",
        "        \n",
        "    def add_mark(self, subject, score):\n",
        "        self.marks[subject] = score\n",
        "        \n",
        "    def display_score(self):\n",
        "        \n",
        "        print(\"score\",self.marks)\n",
        "        \n",
        "    def average(self):\n",
        "        if len(srlf.marks)!=0:\n",
        "            avg = sum(self.marks.values()) / len (self.marks)\n",
        "            print(\"average Score=\", avg)\n",
        "        else:\n",
        "            print(\"No score\")\n",
        "    "
      ]
    },
    {
      "cell_type": "code",
      "execution_count": 45,
      "metadata": {},
      "outputs": [
        {
          "ename": "TypeError",
          "evalue": "Student() takes no arguments",
          "output_type": "error",
          "traceback": [
            "\u001b[1;31m---------------------------------------------------------------------------\u001b[0m",
            "\u001b[1;31mTypeError\u001b[0m                                 Traceback (most recent call last)",
            "Cell \u001b[1;32mIn[45], line 1\u001b[0m\n\u001b[1;32m----> 1\u001b[0m Student1 \u001b[38;5;241m=\u001b[39m \u001b[43mStudent\u001b[49m\u001b[43m(\u001b[49m\u001b[38;5;124;43m\"\u001b[39;49m\u001b[38;5;124;43mBom\u001b[39;49m\u001b[38;5;124;43m\"\u001b[39;49m\u001b[43m,\u001b[49m\u001b[43m \u001b[49m\u001b[38;5;241;43m19\u001b[39;49m\u001b[43m)\u001b[49m\n\u001b[0;32m      2\u001b[0m Student1\u001b[38;5;241m.\u001b[39mdisplay()\n\u001b[0;32m      4\u001b[0m Student1\u001b[38;5;241m.\u001b[39madd_marks(\u001b[38;5;124m\"\u001b[39m\u001b[38;5;124mBio\u001b[39m\u001b[38;5;124m\"\u001b[39m, \u001b[38;5;241m70\u001b[39m)\n",
            "\u001b[1;31mTypeError\u001b[0m: Student() takes no arguments"
          ]
        }
      ],
      "source": [
        "Student1 = Student(\"Bom\", 19)\n",
        "Student1.display()\n",
        "\n",
        "Student1.add_marks(\"Bio\", 70)\n",
        "Student1.add_marks(\"Math\", 80)\n",
        "\n",
        "Student1.display_score()\n",
        "print(f\"Average score: {Student1.average()}\")"
      ]
    }
  ],
  "metadata": {
    "colab": {
      "provenance": []
    },
    "kernelspec": {
      "display_name": "Python 3",
      "name": "python3"
    },
    "language_info": {
      "codemirror_mode": {
        "name": "ipython",
        "version": 3
      },
      "file_extension": ".py",
      "mimetype": "text/x-python",
      "name": "python",
      "nbconvert_exporter": "python",
      "pygments_lexer": "ipython3",
      "version": "3.12.6"
    }
  },
  "nbformat": 4,
  "nbformat_minor": 0
}

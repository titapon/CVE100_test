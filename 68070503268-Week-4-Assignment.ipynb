{
 "cells": [
  {
   "cell_type": "markdown",
   "id": "8956274b",
   "metadata": {},
   "source": [
    "# Even and Odd\n",
    "interate for loop from number 1 to n:\n",
    "is the number is even, print \"[number] is even\"\n",
    "otherwise, print \"[number] is odd:\n",
    "\n",
    "if n = 5 ==> expected output\n",
    "0 is even.\n",
    "1 is odd.\n",
    "2 is even.\n",
    "3 is odd.\n",
    "4 is even."
   ]
  },
  {
   "cell_type": "code",
   "execution_count": 2,
   "id": "3d126ee4",
   "metadata": {},
   "outputs": [
    {
     "name": "stdout",
     "output_type": "stream",
     "text": [
      "1 is odd\n",
      "2 is even\n",
      "3 is odd\n",
      "4 is even\n",
      "5 is odd\n"
     ]
    }
   ],
   "source": [
    "#if with else: check wheter a number is even or odd\n",
    "n = 6\n",
    "for i in range(1,n):\n",
    "    if i%2==0:\n",
    "        print(i, \"is even\")\n",
    "    else:\n",
    "        print(i, \"is odd\")"
   ]
  },
  {
   "cell_type": "markdown",
   "id": "d78c689a",
   "metadata": {},
   "source": [
    "Divistion\n",
    "- define number n = 100\n",
    "- Use a loop from 1 to 10 (the value of looping variable is 1 to 10)\n",
    "- if the result of quotient (number/i) is greater then 5 => print (\"the result is large\")\n",
    "- if the result of quotient (number/i) is exactly equal to 6 ==> skip thr loop with continue\n",
    "- otherwise, print the actual quotient ==> print (\"quitient=\", quotient)"
   ]
  },
  {
   "cell_type": "code",
   "execution_count": 3,
   "id": "7c5e66f3",
   "metadata": {},
   "outputs": [
    {
     "name": "stdout",
     "output_type": "stream",
     "text": [
      "the result is large\n",
      "the result is large\n",
      "the result is large\n",
      "the result is large\n",
      "quotient= 4.0\n",
      "quotient= 3.3333333333333335\n",
      "quotient= 2.857142857142857\n",
      "quotient= 2.5\n",
      "quotient= 2.2222222222222223\n",
      "quotient= 2.0\n"
     ]
    }
   ],
   "source": [
    "#Print the quotient a number\n",
    "n = 20\n",
    "for i in range(1,11):\n",
    "    if n/i >=5:\n",
    "        print(\"the result is large\")\n",
    "    elif n/i ==6:\n",
    "        continue\n",
    "    else:\n",
    "        print(\"quotient=\", n/i)"
   ]
  },
  {
   "cell_type": "markdown",
   "id": "d6514540",
   "metadata": {},
   "source": [
    "Login Authentication\n",
    "\n",
    "-Create a dictionary named \"credentials\" with username as key and password as values.\n",
    "- Initialize the dictionary with three users: (username - user1, password - abc123), (username - admin, password - adminpass, username - guest, password - quest123)\n",
    "- Ask the user to enter a username and password.\n",
    "- If the username exists and the password matches, print (\"Login successful\")\n",
    "- If the username exists but the password is wrong, print (\"Incorrect password\")\n",
    "- If the username does not exist, print \"User not found\""
   ]
  },
  {
   "cell_type": "code",
   "execution_count": 6,
   "id": "328816bb",
   "metadata": {},
   "outputs": [
    {
     "name": "stdout",
     "output_type": "stream",
     "text": [
      "login successfil\n"
     ]
    }
   ],
   "source": [
    "credentials = {'user1': 'abc123', 'admin': 'adminpass', 'guest': 'guest123'}\n",
    "username = input(\"Enter usename\")\n",
    "password = input(\"Enter password\")\n",
    "# if username in credential dictionary\n",
    "    #check whether username and password are equal\n",
    "    # if username and password matches\n",
    "        #print (Login successful)\n",
    "    # else \n",
    "        #print(Incorrecy password)\n",
    "# else \n",
    "    #print (User not found)\n",
    "if username in credentials:\n",
    "    if credentials[username] == password:\n",
    "        print('login successfil')\n",
    "    else:\n",
    "        print('incorrect password')\n",
    "else:\n",
    "    print(\"User not found\")\n",
    "    D = {'userl': 'abc123', 'admin': 'adminpass', 'guest': 'guest123'}"
   ]
  },
  {
   "cell_type": "code",
   "execution_count": 2,
   "id": "4d9fed72",
   "metadata": {},
   "outputs": [
    {
     "name": "stdout",
     "output_type": "stream",
     "text": [
      "* * * * * \n",
      "* * * * * \n",
      "* * * * * \n",
      "* * * * * \n",
      "* * * * * \n"
     ]
    }
   ],
   "source": [
    "stars = 5\n",
    "rows = 5\n",
    "for i in range(1, rows+1):\n",
    "    for j in range(1, stars+1):\n",
    "        print(\"*\", end=\" \")\n",
    "    print() # Newline"
   ]
  },
  {
   "cell_type": "code",
   "execution_count": null,
   "id": "039f6272",
   "metadata": {},
   "outputs": [],
   "source": [
    "Shopping Cart checkout\n",
    "\n",
    "Use initial variable total_bill=0\n",
    "Ask user to add price and add the price to total_bill.\n",
    "If total_bill>=1000, print (\"limit reached. You cannot biy anymore\" and break the loop)\n",
    "Otherwise, ask user to add price"
   ]
  },
  {
   "cell_type": "code",
   "execution_count": 7,
   "id": "9d10b520",
   "metadata": {},
   "outputs": [
    {
     "name": "stdout",
     "output_type": "stream",
     "text": [
      "1032.0\n",
      "Limit reaches. You cannot buy anymore\n"
     ]
    }
   ],
   "source": [
    "total_bill =  0\n",
    "while total_bill<=1000:\n",
    "    price = float(input(\"Enter price of the item\"))\n",
    "    total_bill=total_bill+price\n",
    "    print(total_bill)\n",
    "    # break\n",
    "print(\"Limit reaches. You cannot buy anymore\")"
   ]
  }
 ],
 "metadata": {
  "kernelspec": {
   "display_name": "Python 3",
   "language": "python",
   "name": "python3"
  },
  "language_info": {
   "codemirror_mode": {
    "name": "ipython",
    "version": 3
   },
   "file_extension": ".py",
   "mimetype": "text/x-python",
   "name": "python",
   "nbconvert_exporter": "python",
   "pygments_lexer": "ipython3",
   "version": "3.12.6"
  }
 },
 "nbformat": 4,
 "nbformat_minor": 5
}

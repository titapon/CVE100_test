{
 "cells": [
  {
   "cell_type": "markdown",
   "metadata": {
    "id": "RoQjeM-utYJ-"
   },
   "source": [
    "Import Car class from car.py\n",
    "\n",
    "define car1 with Car('Toyota',1000)\n",
    "\n",
    "run the method like display(), rent(), return_car()"
   ]
  },
  {
   "cell_type": "code",
   "execution_count": 4,
   "metadata": {
    "id": "REl1jgxOu9Mi"
   },
   "outputs": [
    {
     "name": "stdout",
     "output_type": "stream",
     "text": [
      "Model: Toyota\n",
      "Rent per day: ฿1000\n",
      "Availability: Available\n",
      "Car rented. Total cost = ฿1000\n",
      "Car returned\n"
     ]
    }
   ],
   "source": [
    "from car import Car\n",
    "car1 = Car('Toyota',1000)\n",
    "car1.display()\n",
    "car1.rent(1)\n",
    "car1.return_car()"
   ]
  },
  {
   "cell_type": "markdown",
   "metadata": {
    "id": "nvtQU52Kh2-P"
   },
   "source": [
    "Example 1 – Function: Compute Average Load on a Beam\n",
    "Write a Python function average_load(loads) that receives a NumPy array of loads (kN) on different sections of a beam and returns the average load.\n",
    "\n",
    "[12.5, 13.0, 12.0, 11.5, 12.8]"
   ]
  },
  {
   "cell_type": "code",
   "execution_count": 2,
   "metadata": {
    "id": "05gzTY5FiACc"
   },
   "outputs": [
    {
     "name": "stdout",
     "output_type": "stream",
     "text": [
      "None\n"
     ]
    }
   ],
   "source": [
    "import numpy as np\n",
    "\n",
    "def average_load(loads):\n",
    "\n",
    "  pass\n",
    "\n",
    "beam_loads = np.array([12.5, 13.0, 12.0, 11.5, 12.8])\n",
    "avg_load = average_load(beam_loads)\n",
    "print(avg_load)\n",
    "\n",
    "\n"
   ]
  },
  {
   "cell_type": "markdown",
   "metadata": {
    "id": "aFUa3zvkif6E"
   },
   "source": [
    "Example 2 – Function: Create a Diagonal Stiffness Matrix\n",
    "\n",
    "Question:\n",
    "Write a function stiffness_matrix(values) that takes a 1D NumPy array of stiffness values and returns a diagonal matrix with those values on the diagonal."
   ]
  },
  {
   "cell_type": "code",
   "execution_count": 3,
   "metadata": {
    "id": "Bsc1PbkaihM2"
   },
   "outputs": [
    {
     "name": "stdout",
     "output_type": "stream",
     "text": [
      "[[10  0  0]\n",
      " [ 0 20  0]\n",
      " [ 0  0 30]]\n"
     ]
    }
   ],
   "source": [
    "import numpy as np\n",
    "\n",
    "def stiffness_matrix(values):\n",
    "\n",
    "  return np.diag(values)\n",
    "\n",
    "\n",
    "stiffness_values = np.array([10, 20, 30])\n",
    "diagonal_matrix = stiffness_matrix(stiffness_values)\n",
    "print(diagonal_matrix)"
   ]
  },
  {
   "cell_type": "markdown",
   "metadata": {
    "id": "ik1wvH1aixvM"
   },
   "source": [
    "Example 3 – Class: ConcreteStrength\n",
    "\n",
    "Question:\n",
    "Create a class ConcreteStrength to store compressive strength test data.\n",
    "\n",
    "The class should have:\n",
    "\n",
    "an attribute samples (NumPy array of strengths)\n",
    "\n",
    "a method mean_strength() returning the mean\n",
    "\n",
    "a method std_strength() returning the standard deviation"
   ]
  },
  {
   "cell_type": "code",
   "execution_count": 4,
   "metadata": {
    "id": "sOeiEdM-iw8Y"
   },
   "outputs": [
    {
     "name": "stdout",
     "output_type": "stream",
     "text": [
      "25.7\n",
      "0.540370243444252\n"
     ]
    }
   ],
   "source": [
    "import numpy as np\n",
    "\n",
    "class ConcreteStrength:\n",
    "  def __init__(self, samples):\n",
    "\n",
    "    self.samples = samples\n",
    "\n",
    "  def mean_strength(self):\n",
    "\n",
    "    return np.mean(self.samples)\n",
    "\n",
    "  def std_strength(self):\n",
    "\n",
    "    return np.std(self.samples)\n",
    "\n",
    "strength_data = ConcreteStrength([25.4, 26.1, 24.8, 25.9, 26.3])\n",
    "mean_value = strength_data.mean_strength()\n",
    "print(mean_value)\n",
    "std_value = strength_data.std_strength()\n",
    "print(std_value)\n",
    "\n"
   ]
  },
  {
   "cell_type": "markdown",
   "metadata": {
    "id": "Nj5DoHFojHBc"
   },
   "source": [
    "Example 4 – Class: GridElevation\n",
    "\n",
    "Question:\n",
    "Write a class GridElevation representing a 2D grid of elevations.\n",
    "It should have:\n",
    "\n",
    "elevations (NumPy 2D array)\n",
    "\n",
    "max_elevation() method\n",
    "\n",
    "min_elevation() method\n",
    "\n",
    "profile(row) method returning one row’s elevation profile as a 1D NumPy array"
   ]
  },
  {
   "cell_type": "code",
   "execution_count": 5,
   "metadata": {
    "id": "LIRJEjjojKlj"
   },
   "outputs": [
    {
     "name": "stdout",
     "output_type": "stream",
     "text": [
      "5.5\n",
      "<bound method GridElevation.min_elevation of <__main__.GridElevation object at 0x00000267DA6CFAD0>>\n",
      "[5.2 5.4 5.3]\n"
     ]
    }
   ],
   "source": [
    "import numpy as np\n",
    "\n",
    "class GridElevation:\n",
    "  def __init__(self, elevations):\n",
    "\n",
    "    self.elevation = np.array(elevations)\n",
    "\n",
    "  def max_elevation(self):\n",
    "\n",
    "    return np.max(self.elevation)\n",
    "\n",
    "  def min_elevation(self):\n",
    "\n",
    "    return np.min(self.elevation)\n",
    "\n",
    "  def profile(self, row):\n",
    "\n",
    "    return self.elevation[row]\n",
    "\n",
    "grid = GridElevation([[5.2,5.4,5.3],\n",
    "                      [5.1,5.3,5.5],\n",
    "                      [5.0,5.2,5.4]])\n",
    "\n",
    "max_value = grid.max_elevation()\n",
    "print(max_value)\n",
    "min_value = grid.min_elevation\n",
    "print(min_value)\n",
    "profile_value = grid.profile(0)\n",
    "print(profile_value)\n"
   ]
  },
  {
   "cell_type": "markdown",
   "metadata": {
    "id": "sYrSqUq0mfbP"
   },
   "source": [
    "FitnessTracker Exercises\n",
    "\n",
    "You are given 7 days of step counts for 3 people (rows = days, columns = people):\n",
    "\n",
    "Create a class called FitnessTracker that:\n",
    "\n",
    "Accepts the step data as a NumPy array.\n",
    "\n",
    "Optionally accepts a list of names for the people.\n",
    "\n",
    "Stores the data as an attribute.\n",
    "\n",
    "Add the following methods to your class:\n",
    "\n",
    "total_steps_per_person() → Returns total steps for each person.\n",
    "\n",
    "total_steps_per_day() → Returns total steps for each day.\n",
    "\n",
    "average_per_person() → Returns average steps per person.\n",
    "\n",
    "best_day_overall() → Returns the day (1-based) with the highest average steps across all people.\n",
    "\n",
    "person_max_on_day(day_index) → Returns the person who walked the most on a given day (0-based index).\n",
    "\n",
    "days_over_threshold(threshold) → Returns the number of days each person exceeded a given threshold.\n",
    "\n",
    "percent_change_day(day1, day2) → Returns the percentage change in steps from day1 to day2 for each person.\n",
    "\n",
    "Add a method normalize_per_person() that:\n",
    "\n",
    "Returns a Min-Max normalized array per person.\n",
    "\n",
    "For each person (column), scale their steps to the range [0, 1] using:\n",
    "\n",
    "Min-Max normalization: $x_{\\text{norm}} = \\frac{x - x_{\\min}}{x_{\\max} - x_{\\min}}$\n",
    "\n",
    "Each column should be normalized independently based on that person’s min and max steps."
   ]
  },
  {
   "cell_type": "code",
   "execution_count": 8,
   "metadata": {
    "colab": {
     "base_uri": "https://localhost:8080/"
    },
    "id": "VkYzuMSHm5V1",
    "outputId": "b868eb78-9eda-4871-b214-e5bb1d5ec00c",
    "scrolled": true
   },
   "outputs": [
    {
     "name": "stdout",
     "output_type": "stream",
     "text": [
      "Total steps per person: [59100 73500 67400]\n",
      "Total steps per day: [27500 28700 27500 28400 29700 30000 28200]\n",
      "Average per person: [ 8442.85714286 10500.          9628.57142857]\n",
      "Best day overall (highest avg): 6\n"
     ]
    },
    {
     "ename": "AttributeError",
     "evalue": "'FitnessTracker' object has no attribute 'names'",
     "output_type": "error",
     "traceback": [
      "\u001b[1;31m---------------------------------------------------------------------------\u001b[0m",
      "\u001b[1;31mAttributeError\u001b[0m                            Traceback (most recent call last)",
      "Cell \u001b[1;32mIn[8], line 57\u001b[0m\n\u001b[0;32m     55\u001b[0m \u001b[38;5;28mprint\u001b[39m(\u001b[38;5;124m\"\u001b[39m\u001b[38;5;124mAverage per person:\u001b[39m\u001b[38;5;124m\"\u001b[39m, tracker\u001b[38;5;241m.\u001b[39maverage_per_person())\n\u001b[0;32m     56\u001b[0m \u001b[38;5;28mprint\u001b[39m(\u001b[38;5;124m\"\u001b[39m\u001b[38;5;124mBest day overall (highest avg):\u001b[39m\u001b[38;5;124m\"\u001b[39m, tracker\u001b[38;5;241m.\u001b[39mbest_day_overall())\n\u001b[1;32m---> 57\u001b[0m \u001b[38;5;28mprint\u001b[39m(\u001b[38;5;124m\"\u001b[39m\u001b[38;5;124mWho walked the most on Day 5?\u001b[39m\u001b[38;5;124m\"\u001b[39m, \u001b[43mtracker\u001b[49m\u001b[38;5;241;43m.\u001b[39;49m\u001b[43mperson_max_on_day\u001b[49m\u001b[43m(\u001b[49m\u001b[38;5;241;43m4\u001b[39;49m\u001b[43m)\u001b[49m)\n\u001b[0;32m     58\u001b[0m \u001b[38;5;28mprint\u001b[39m(\u001b[38;5;124m\"\u001b[39m\u001b[38;5;124mDays each person >10k:\u001b[39m\u001b[38;5;124m\"\u001b[39m, tracker\u001b[38;5;241m.\u001b[39mdays_over_threshold(\u001b[38;5;241m10000\u001b[39m))\n\u001b[0;32m     59\u001b[0m \u001b[38;5;28mprint\u001b[39m(\u001b[38;5;124m\"\u001b[39m\u001b[38;5;124mPercent change Day 1→Day 7:\u001b[39m\u001b[38;5;124m\"\u001b[39m, tracker\u001b[38;5;241m.\u001b[39mpercent_change_day(\u001b[38;5;241m0\u001b[39m,\u001b[38;5;241m6\u001b[39m))\n",
      "Cell \u001b[1;32mIn[8], line 24\u001b[0m, in \u001b[0;36mFitnessTracker.person_max_on_day\u001b[1;34m(self, day_index)\u001b[0m\n\u001b[0;32m     22\u001b[0m \u001b[38;5;28;01mdef\u001b[39;00m \u001b[38;5;21mperson_max_on_day\u001b[39m(\u001b[38;5;28mself\u001b[39m, day_index):\n\u001b[0;32m     23\u001b[0m   index \u001b[38;5;241m=\u001b[39m np\u001b[38;5;241m.\u001b[39margmax(\u001b[38;5;28mself\u001b[39m\u001b[38;5;241m.\u001b[39msteps[day_index,:])\n\u001b[1;32m---> 24\u001b[0m   person_name \u001b[38;5;241m=\u001b[39m \u001b[38;5;28;43mself\u001b[39;49m\u001b[38;5;241;43m.\u001b[39;49m\u001b[43mnames\u001b[49m[index]\n\u001b[0;32m     25\u001b[0m   \u001b[38;5;28;01mreturn\u001b[39;00m person_name\n",
      "\u001b[1;31mAttributeError\u001b[0m: 'FitnessTracker' object has no attribute 'names'"
     ]
    }
   ],
   "source": [
    "import numpy as np\n",
    "\n",
    "class FitnessTracker:\n",
    "  def __init__(self, steps, names=None):\n",
    "    self.name = names\n",
    "    self.steps = np.array(steps)\n",
    "\n",
    "  def total_steps_per_person(self):\n",
    "    return np.sum(self.steps, axis=0)\n",
    "\n",
    "  def total_steps_per_day(self):\n",
    "    return np.sum(self.steps, axis=1)\n",
    "\n",
    "  def average_per_person(self):\n",
    "    return np.mean(self.steps, axis=0)\n",
    "\n",
    "  def best_day_overall(self):\n",
    "    day_avg = np.mean(self.steps, axis=1)\n",
    "    best_day = np.argmax(day_avg)+1\n",
    "    return best_day\n",
    "\n",
    "  def person_max_on_day(self, day_index):\n",
    "    index = np.argmax(self.steps[day_index,:])\n",
    "    person_name = self.names[index]\n",
    "    return person_name\n",
    "    \n",
    "    \n",
    "\n",
    "  def days_over_threshold(self, threshold=10000):\n",
    "    return np.sum(self.step > threshold, axis=0)\n",
    "\n",
    "  def percent_change_day(self, day1, day2):\n",
    "    percent = (self.steps[day2, :] - self.steps[day1, :]) / self.step[day1, :] * 100\n",
    "    return percent\n",
    "\n",
    "\n",
    "  def minmax_normalize_per_person(self):\n",
    "    min_values = np.min(self.step, axis=0)\n",
    "    max_value = np.max(self.step, axis=0)\n",
    "    normalized = (self.steps - min_values) / (max_value - min_values)\n",
    "    return normalized\n",
    "\n",
    "steps = np.array([[8000, 10000, 9500],\n",
    "                  [9000, 11000, 8700],\n",
    "                  [7500,  9800, 10200],\n",
    "                  [8200, 10500, 9700],\n",
    "                  [8800, 11500, 9400],\n",
    "                  [9100, 10800, 10100],\n",
    "                  [8500,  9900, 9800]])\n",
    "\n",
    "tracker = FitnessTracker(steps, names=['Alice', 'Bob', 'Charlie'])\n",
    "\n",
    "print(\"Total steps per person:\", tracker.total_steps_per_person())\n",
    "print(\"Total steps per day:\", tracker.total_steps_per_day())\n",
    "print(\"Average per person:\", tracker.average_per_person())\n",
    "print(\"Best day overall (highest avg):\", tracker.best_day_overall())\n",
    "print(\"Who walked the most on Day 5?\", tracker.person_max_on_day(4))\n",
    "print(\"Days each person >10k:\", tracker.days_over_threshold(10000))\n",
    "print(\"Percent change Day 1→Day 7:\", tracker.percent_change_day(0,6))\n",
    "print(\"Min-Max Normalized steps:\\n\", tracker.minmax_normalize_per_person())\n"
   ]
  },
  {
   "cell_type": "code",
   "execution_count": null,
   "metadata": {
    "id": "aA7EqAoao0i7"
   },
   "outputs": [],
   "source": []
  }
 ],
 "metadata": {
  "colab": {
   "provenance": []
  },
  "kernelspec": {
   "display_name": "Python 3",
   "language": "python",
   "name": "python3"
  },
  "language_info": {
   "codemirror_mode": {
    "name": "ipython",
    "version": 3
   },
   "file_extension": ".py",
   "mimetype": "text/x-python",
   "name": "python",
   "nbconvert_exporter": "python",
   "pygments_lexer": "ipython3",
   "version": "3.12.6"
  }
 },
 "nbformat": 4,
 "nbformat_minor": 1
}
